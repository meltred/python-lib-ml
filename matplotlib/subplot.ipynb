{
 "cells": [
  {
   "cell_type": "code",
   "execution_count": 2,
   "metadata": {},
   "outputs": [],
   "source": [
    "import matplotlib.pyplot as plt\n",
    "import numpy as np"
   ]
  },
  {
   "cell_type": "code",
   "execution_count": 3,
   "metadata": {},
   "outputs": [
    {
     "data": {
      "text/plain": [
       "<Figure size 640x480 with 0 Axes>"
      ]
     },
     "metadata": {},
     "output_type": "display_data"
    }
   ],
   "source": [
    "fig = plt.figure()"
   ]
  },
  {
   "cell_type": "code",
   "execution_count": 4,
   "metadata": {},
   "outputs": [],
   "source": [
    "ax = fig.add_subplot(projection='3d')"
   ]
  },
  {
   "cell_type": "code",
   "execution_count": 5,
   "metadata": {},
   "outputs": [],
   "source": [
    "X = np.arange(-5, 5, 0.15)\n",
    "Y = np.arange(-5, 5, 0.15)"
   ]
  },
  {
   "cell_type": "code",
   "execution_count": 6,
   "metadata": {},
   "outputs": [
    {
     "data": {
      "text/plain": [
       "array([-5.  , -4.85, -4.7 , -4.55, -4.4 , -4.25, -4.1 , -3.95, -3.8 ,\n",
       "       -3.65, -3.5 , -3.35, -3.2 , -3.05, -2.9 , -2.75, -2.6 , -2.45,\n",
       "       -2.3 , -2.15, -2.  , -1.85, -1.7 , -1.55, -1.4 , -1.25, -1.1 ,\n",
       "       -0.95, -0.8 , -0.65, -0.5 , -0.35, -0.2 , -0.05,  0.1 ,  0.25,\n",
       "        0.4 ,  0.55,  0.7 ,  0.85,  1.  ,  1.15,  1.3 ,  1.45,  1.6 ,\n",
       "        1.75,  1.9 ,  2.05,  2.2 ,  2.35,  2.5 ,  2.65,  2.8 ,  2.95,\n",
       "        3.1 ,  3.25,  3.4 ,  3.55,  3.7 ,  3.85,  4.  ,  4.15,  4.3 ,\n",
       "        4.45,  4.6 ,  4.75,  4.9 ])"
      ]
     },
     "execution_count": 6,
     "metadata": {},
     "output_type": "execute_result"
    }
   ],
   "source": [
    "X"
   ]
  },
  {
   "cell_type": "code",
   "execution_count": 7,
   "metadata": {},
   "outputs": [],
   "source": [
    "\n",
    "X, Y = np.meshgrid(X, Y)"
   ]
  },
  {
   "cell_type": "code",
   "execution_count": 8,
   "metadata": {},
   "outputs": [
    {
     "data": {
      "text/plain": [
       "array([[-5.  , -4.85, -4.7 , ...,  4.6 ,  4.75,  4.9 ],\n",
       "       [-5.  , -4.85, -4.7 , ...,  4.6 ,  4.75,  4.9 ],\n",
       "       [-5.  , -4.85, -4.7 , ...,  4.6 ,  4.75,  4.9 ],\n",
       "       ...,\n",
       "       [-5.  , -4.85, -4.7 , ...,  4.6 ,  4.75,  4.9 ],\n",
       "       [-5.  , -4.85, -4.7 , ...,  4.6 ,  4.75,  4.9 ],\n",
       "       [-5.  , -4.85, -4.7 , ...,  4.6 ,  4.75,  4.9 ]])"
      ]
     },
     "execution_count": 8,
     "metadata": {},
     "output_type": "execute_result"
    }
   ],
   "source": [
    "X"
   ]
  },
  {
   "cell_type": "code",
   "execution_count": 9,
   "metadata": {},
   "outputs": [
    {
     "data": {
      "text/plain": [
       "array([[-5.  , -5.  , -5.  , ..., -5.  , -5.  , -5.  ],\n",
       "       [-4.85, -4.85, -4.85, ..., -4.85, -4.85, -4.85],\n",
       "       [-4.7 , -4.7 , -4.7 , ..., -4.7 , -4.7 , -4.7 ],\n",
       "       ...,\n",
       "       [ 4.6 ,  4.6 ,  4.6 , ...,  4.6 ,  4.6 ,  4.6 ],\n",
       "       [ 4.75,  4.75,  4.75, ...,  4.75,  4.75,  4.75],\n",
       "       [ 4.9 ,  4.9 ,  4.9 , ...,  4.9 ,  4.9 ,  4.9 ]])"
      ]
     },
     "execution_count": 9,
     "metadata": {},
     "output_type": "execute_result"
    }
   ],
   "source": [
    "Y"
   ]
  },
  {
   "cell_type": "code",
   "execution_count": 10,
   "metadata": {},
   "outputs": [],
   "source": [
    "R = np.sqrt(X ** 2 + Y ** 2)"
   ]
  },
  {
   "cell_type": "code",
   "execution_count": 11,
   "metadata": {},
   "outputs": [
    {
     "data": {
      "text/plain": [
       "array([[7.07106781, 6.96580936, 6.86221539, ..., 6.7941151 , 6.89655711,\n",
       "        7.00071425],\n",
       "       [6.96580936, 6.85893578, 6.75370269, ..., 6.68449699, 6.78859337,\n",
       "        6.89438177],\n",
       "       [6.86221539, 6.75370269, 6.64680374, ..., 6.57647322, 6.68225261,\n",
       "        6.78969808],\n",
       "       ...,\n",
       "       [6.7941151 , 6.68449699, 6.57647322, ..., 6.50538239, 6.61229915,\n",
       "        6.72086304],\n",
       "       [6.89655711, 6.78859337, 6.68225261, ..., 6.61229915, 6.71751442,\n",
       "        6.82440474],\n",
       "       [7.00071425, 6.89438177, 6.78969808, ..., 6.72086304, 6.82440474,\n",
       "        6.92964646]])"
      ]
     },
     "execution_count": 11,
     "metadata": {},
     "output_type": "execute_result"
    }
   ],
   "source": [
    "R"
   ]
  },
  {
   "cell_type": "code",
   "execution_count": 12,
   "metadata": {},
   "outputs": [],
   "source": [
    "Z = np.sin(R)"
   ]
  },
  {
   "cell_type": "code",
   "execution_count": 13,
   "metadata": {},
   "outputs": [
    {
     "data": {
      "text/plain": [
       "<mpl_toolkits.mplot3d.art3d.Poly3DCollection at 0x1ea7b8295e0>"
      ]
     },
     "execution_count": 13,
     "metadata": {},
     "output_type": "execute_result"
    }
   ],
   "source": [
    "ax.plot_surface(X, Y, Z, rstride=1, cstride=1, cmap=\"viridis\")  "
   ]
  },
  {
   "cell_type": "markdown",
   "metadata": {},
   "source": []
  },
  {
   "cell_type": "code",
   "execution_count": 15,
   "metadata": {},
   "outputs": [
    {
     "data": {
      "text/plain": [
       "<Axes3D: >"
      ]
     },
     "execution_count": 15,
     "metadata": {},
     "output_type": "execute_result"
    }
   ],
   "source": []
  },
  {
   "cell_type": "code",
   "execution_count": 18,
   "metadata": {},
   "outputs": [
    {
     "data": {
      "text/plain": [
       "[<mpl_toolkits.mplot3d.art3d.Line3D at 0x1ea02f822a0>]"
      ]
     },
     "execution_count": 18,
     "metadata": {},
     "output_type": "execute_result"
    }
   ],
   "source": []
  },
  {
   "cell_type": "code",
   "execution_count": null,
   "metadata": {},
   "outputs": [],
   "source": []
  }
 ],
 "metadata": {
  "kernelspec": {
   "display_name": "python-lib-ml-i233ley0",
   "language": "python",
   "name": "python3"
  },
  "language_info": {
   "codemirror_mode": {
    "name": "ipython",
    "version": 3
   },
   "file_extension": ".py",
   "mimetype": "text/x-python",
   "name": "python",
   "nbconvert_exporter": "python",
   "pygments_lexer": "ipython3",
   "version": "3.12.2"
  }
 },
 "nbformat": 4,
 "nbformat_minor": 2
}
