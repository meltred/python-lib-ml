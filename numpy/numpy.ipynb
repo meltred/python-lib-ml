{
 "cells": [
  {
   "cell_type": "code",
   "execution_count": 1,
   "id": "eae56a43-a4f5-4fef-8b4c-c78e7eb4076c",
   "metadata": {},
   "outputs": [],
   "source": [
    "import pandas as pd"
   ]
  },
  {
   "cell_type": "code",
   "execution_count": 2,
   "id": "1ab25de0-216f-445b-8a53-1d9cbd055d3d",
   "metadata": {},
   "outputs": [],
   "source": [
    "import numpy as np\n",
    "import matplotlib.pyplot as plt\n",
    "%matplotlib inline"
   ]
  },
  {
   "cell_type": "code",
   "execution_count": 3,
   "id": "b20fddb7-f576-457f-901c-8e90c1d0cf0f",
   "metadata": {},
   "outputs": [],
   "source": [
    "myarr = np.array([1,2,3,54,56], np.int64)"
   ]
  },
  {
   "cell_type": "code",
   "execution_count": 4,
   "id": "effd2606-4659-4393-b00c-9ea0ac4b5cfd",
   "metadata": {},
   "outputs": [
    {
     "data": {
      "text/plain": [
       "array([ 1,  2,  3, 54, 56], dtype=int64)"
      ]
     },
     "execution_count": 4,
     "metadata": {},
     "output_type": "execute_result"
    }
   ],
   "source": [
    "myarr"
   ]
  },
  {
   "cell_type": "code",
   "execution_count": 5,
   "id": "2160cefc-16c9-4f87-9bb2-68d0fc5ff79d",
   "metadata": {},
   "outputs": [
    {
     "data": {
      "text/plain": [
       "(5,)"
      ]
     },
     "execution_count": 5,
     "metadata": {},
     "output_type": "execute_result"
    }
   ],
   "source": [
    "myarr.shape"
   ]
  },
  {
   "cell_type": "code",
   "execution_count": 6,
   "id": "6cc34392-0ae8-4524-b195-1fc34f6e5078",
   "metadata": {},
   "outputs": [
    {
     "data": {
      "text/plain": [
       "dtype('int64')"
      ]
     },
     "execution_count": 6,
     "metadata": {},
     "output_type": "execute_result"
    }
   ],
   "source": [
    "myarr.dtype"
   ]
  },
  {
   "cell_type": "code",
   "execution_count": 7,
   "id": "f2f8a9f2-6fe4-4ade-a11d-0da20f7c8ca2",
   "metadata": {},
   "outputs": [],
   "source": [
    "ones = np.ones(2)\n",
    "zeroes = np.zeros(2)"
   ]
  },
  {
   "cell_type": "code",
   "execution_count": 8,
   "id": "7aa2bfca-a8e2-45f7-8eaa-0a52af5c2ede",
   "metadata": {},
   "outputs": [],
   "source": [
    "ans = ones + zeroes"
   ]
  },
  {
   "cell_type": "code",
   "execution_count": 9,
   "id": "72d0adf5-f33a-4a85-90b6-04ef8d6a4520",
   "metadata": {},
   "outputs": [
    {
     "data": {
      "text/plain": [
       "array([1., 1.])"
      ]
     },
     "execution_count": 9,
     "metadata": {},
     "output_type": "execute_result"
    }
   ],
   "source": [
    "ans"
   ]
  },
  {
   "cell_type": "code",
   "execution_count": 10,
   "id": "a5db3980-09a4-4504-b4f8-5c80d31c9fd4",
   "metadata": {},
   "outputs": [
    {
     "data": {
      "text/plain": [
       "116"
      ]
     },
     "execution_count": 10,
     "metadata": {},
     "output_type": "execute_result"
    }
   ],
   "source": [
    "myarr.sum()"
   ]
  },
  {
   "cell_type": "code",
   "execution_count": 11,
   "id": "da4ebeed-338b-4345-aa39-cf4eb9754770",
   "metadata": {},
   "outputs": [],
   "source": [
    "tdim = np.array([[1,2], [3,2]])"
   ]
  },
  {
   "cell_type": "code",
   "execution_count": 12,
   "id": "330c7c02-e1cb-4e48-821b-fa30adde7868",
   "metadata": {},
   "outputs": [
    {
     "data": {
      "text/plain": [
       "array([4, 4])"
      ]
     },
     "execution_count": 12,
     "metadata": {},
     "output_type": "execute_result"
    }
   ],
   "source": [
    "tdim.sum(axis=0)"
   ]
  },
  {
   "cell_type": "code",
   "execution_count": 13,
   "id": "98982530-5dd7-43af-a6a7-06f7f8736f9a",
   "metadata": {},
   "outputs": [
    {
     "data": {
      "text/plain": [
       "array([3, 5])"
      ]
     },
     "execution_count": 13,
     "metadata": {},
     "output_type": "execute_result"
    }
   ],
   "source": [
    "tdim.sum(axis=1)"
   ]
  },
  {
   "cell_type": "code",
   "execution_count": 14,
   "id": "9b943450-ac49-4b2e-92ef-33532f7367c6",
   "metadata": {},
   "outputs": [
    {
     "data": {
      "text/plain": [
       "3"
      ]
     },
     "execution_count": 14,
     "metadata": {},
     "output_type": "execute_result"
    }
   ],
   "source": [
    "tdim.min()\n",
    "tdim.max()"
   ]
  },
  {
   "cell_type": "markdown",
   "id": "b3200d34-c3a0-4922-b08e-4cc092378922",
   "metadata": {},
   "source": [
    "## MATRICES"
   ]
  },
  {
   "cell_type": "code",
   "execution_count": 15,
   "id": "8efc6a13-0793-4425-8b8a-5b73c4919531",
   "metadata": {},
   "outputs": [],
   "source": [
    "data = np.array([[1,2],[2,3],[4,5]])"
   ]
  },
  {
   "cell_type": "code",
   "execution_count": 16,
   "id": "21b0c94a-25e6-423d-93b6-206b719cc753",
   "metadata": {},
   "outputs": [
    {
     "data": {
      "text/plain": [
       "array([2, 3, 5])"
      ]
     },
     "execution_count": 16,
     "metadata": {},
     "output_type": "execute_result"
    }
   ],
   "source": [
    "data[2,1]\n",
    "data[0:3]\n",
    "data[0:3, 1] #0 means x and 1 means y"
   ]
  },
  {
   "cell_type": "code",
   "execution_count": 17,
   "id": "5892e7d0-9841-4efd-812b-6cfe8a60f2d9",
   "metadata": {},
   "outputs": [
    {
     "data": {
      "text/plain": [
       "array([2, 3, 5])"
      ]
     },
     "execution_count": 17,
     "metadata": {},
     "output_type": "execute_result"
    }
   ],
   "source": [
    "data.min() # same as prev\n",
    "data.max(axis=1) "
   ]
  },
  {
   "cell_type": "code",
   "execution_count": 18,
   "id": "38ce944e-fe59-415b-8b2b-30b8abdb7aab",
   "metadata": {},
   "outputs": [
    {
     "data": {
      "text/plain": [
       "array([[[1., 1.],\n",
       "        [1., 1.],\n",
       "        [1., 1.]],\n",
       "\n",
       "       [[1., 1.],\n",
       "        [1., 1.],\n",
       "        [1., 1.]],\n",
       "\n",
       "       [[1., 1.],\n",
       "        [1., 1.],\n",
       "        [1., 1.]],\n",
       "\n",
       "       [[1., 1.],\n",
       "        [1., 1.],\n",
       "        [1., 1.]]])"
      ]
     },
     "execution_count": 18,
     "metadata": {},
     "output_type": "execute_result"
    }
   ],
   "source": [
    "np.ones((4,3,2)) #number_times row coloumn"
   ]
  },
  {
   "cell_type": "code",
   "execution_count": 19,
   "id": "f65988da-9f66-44fb-838e-8f8f88dfa727",
   "metadata": {},
   "outputs": [
    {
     "data": {
      "text/plain": [
       "array([[0.71003331, 0.78270813, 0.89785316, 0.1869514 ],\n",
       "       [0.17338989, 0.17168972, 0.11502734, 0.44413253],\n",
       "       [0.64937187, 0.92999331, 0.1966511 , 0.72706664],\n",
       "       [0.24587397, 0.04998708, 0.07269777, 0.58965837]])"
      ]
     },
     "execution_count": 19,
     "metadata": {},
     "output_type": "execute_result"
    }
   ],
   "source": [
    "#generate Random Number\n",
    "rng = np.random.default_rng()\n",
    "rng.random(4)\n",
    "rng.random((4,4)) #2 dimensional random"
   ]
  },
  {
   "cell_type": "code",
   "execution_count": 20,
   "id": "1d1524c2-d8d8-4577-bfac-a12678200bec",
   "metadata": {},
   "outputs": [
    {
     "data": {
      "text/plain": [
       "array([[1, 4, 0, 1],\n",
       "       [4, 0, 1, 2]], dtype=int64)"
      ]
     },
     "execution_count": 20,
     "metadata": {},
     "output_type": "execute_result"
    }
   ],
   "source": [
    "rng.integers(5, size=(2,4))  #generate random integers between 0 and 4 ->> and 2 rows and 4 col"
   ]
  },
  {
   "cell_type": "code",
   "execution_count": 21,
   "id": "b5720e92-83e5-43e7-b3e7-fba92b447de9",
   "metadata": {},
   "outputs": [
    {
     "data": {
      "text/plain": [
       "array([[8, 5, 8, 5, 8, 6, 4, 8, 8, 8]], dtype=int64)"
      ]
     },
     "execution_count": 21,
     "metadata": {},
     "output_type": "execute_result"
    }
   ],
   "source": [
    "x = rng.integers(10, size=(1,10))\n",
    "x"
   ]
  },
  {
   "cell_type": "code",
   "execution_count": 22,
   "id": "745cc176-f183-46b3-826d-59fc7aa6c2f0",
   "metadata": {},
   "outputs": [
    {
     "data": {
      "text/plain": [
       "array([4, 5, 6, 8], dtype=int64)"
      ]
     },
     "execution_count": 22,
     "metadata": {},
     "output_type": "execute_result"
    }
   ],
   "source": [
    "np.unique(x) #It select the ele which comes ones and if mul then select first one\n"
   ]
  },
  {
   "cell_type": "code",
   "execution_count": 23,
   "id": "ddb6619e-7270-4eb1-ae0a-bebf838c5f6a",
   "metadata": {},
   "outputs": [
    {
     "data": {
      "text/plain": [
       "array([6, 1, 5, 0], dtype=int64)"
      ]
     },
     "execution_count": 23,
     "metadata": {},
     "output_type": "execute_result"
    }
   ],
   "source": [
    "unique_values, index_only = np.unique(x, return_index=True)  #it will return the index of the unique values\n",
    "index_only"
   ]
  },
  {
   "cell_type": "code",
   "execution_count": 24,
   "id": "12312922-6082-42ba-806c-0743c2b2001b",
   "metadata": {},
   "outputs": [
    {
     "data": {
      "text/plain": [
       "array([1, 2, 1, 6], dtype=int64)"
      ]
     },
     "execution_count": 24,
     "metadata": {},
     "output_type": "execute_result"
    }
   ],
   "source": [
    "unique_values, occurence = np.unique(x, return_counts=True)\n",
    "occurence"
   ]
  },
  {
   "cell_type": "code",
   "execution_count": 25,
   "id": "5fd13557-1802-4e6f-99af-abaf13668715",
   "metadata": {},
   "outputs": [
    {
     "data": {
      "text/plain": [
       "array([[64, 33, 33, 79],\n",
       "       [ 5, 78,  7, 73],\n",
       "       [ 7, 89, 93, 29],\n",
       "       [33, 99, 46, 26]], dtype=int64)"
      ]
     },
     "execution_count": 25,
     "metadata": {},
     "output_type": "execute_result"
    }
   ],
   "source": [
    "gen = np.random.default_rng()\n",
    "a_2d = gen.integers(100, size=(4,4))\n",
    "a_2d"
   ]
  },
  {
   "cell_type": "code",
   "execution_count": 26,
   "id": "b671f291-fa28-408b-b08a-1076e641a4cc",
   "metadata": {},
   "outputs": [
    {
     "name": "stdout",
     "output_type": "stream",
     "text": [
      "[ 5  7 26 29 33 46 64 73 78 79 89 93 99]\n"
     ]
    }
   ],
   "source": [
    "gt = np.unique(a_2d) #will flattend if not axis is provided\n",
    "print(gt)"
   ]
  },
  {
   "cell_type": "code",
   "execution_count": 27,
   "id": "b8e5eeea-d88b-49f9-8309-c8b851a361e5",
   "metadata": {},
   "outputs": [
    {
     "data": {
      "text/plain": [
       "array([[ 5, 78,  7, 73],\n",
       "       [ 7, 89, 93, 29],\n",
       "       [33, 99, 46, 26],\n",
       "       [64, 33, 33, 79]], dtype=int64)"
      ]
     },
     "execution_count": 27,
     "metadata": {},
     "output_type": "execute_result"
    }
   ],
   "source": [
    "new = np.unique(a_2d, axis=0) # In this case all are unique\n",
    "new"
   ]
  },
  {
   "cell_type": "code",
   "execution_count": 28,
   "id": "d314beea-3212-45c0-96e0-c7d873c648e1",
   "metadata": {},
   "outputs": [
    {
     "data": {
      "text/plain": [
       "(array([[ 5, 78,  7, 73],\n",
       "        [ 7, 89, 93, 29],\n",
       "        [33, 99, 46, 26],\n",
       "        [64, 33, 33, 79]], dtype=int64),\n",
       " array([1, 2, 3, 0], dtype=int64),\n",
       " array([1, 1, 1, 1], dtype=int64))"
      ]
     },
     "execution_count": 28,
     "metadata": {},
     "output_type": "execute_result"
    }
   ],
   "source": [
    "unique_values, indices, occurence = np.unique(a_2d, axis=0, return_counts=True, return_index=True)\n",
    "unique_values, indices, occurence"
   ]
  },
  {
   "cell_type": "code",
   "execution_count": 29,
   "id": "f9d2762c-bfdc-4710-8652-6b3627bffbda",
   "metadata": {},
   "outputs": [
    {
     "name": "stdout",
     "output_type": "stream",
     "text": [
      "[[0 1 2]\n",
      " [3 4 5]]\n"
     ]
    },
    {
     "data": {
      "text/plain": [
       "array([[0, 3],\n",
       "       [1, 4],\n",
       "       [2, 5]])"
      ]
     },
     "execution_count": 29,
     "metadata": {},
     "output_type": "execute_result"
    }
   ],
   "source": [
    "# CHANGE AXES \n",
    "arr = np.arange(6).reshape(2,3)\n",
    "print(arr)\n",
    "arr.transpose() # or arr.T"
   ]
  },
  {
   "cell_type": "code",
   "execution_count": 30,
   "id": "91373a2a-5ad8-484b-948b-038c39286c87",
   "metadata": {},
   "outputs": [
    {
     "name": "stdout",
     "output_type": "stream",
     "text": [
      "[0 1 2 3 4 5]\n"
     ]
    },
    {
     "data": {
      "text/plain": [
       "array([5, 4, 3, 2, 1, 0])"
      ]
     },
     "execution_count": 30,
     "metadata": {},
     "output_type": "execute_result"
    }
   ],
   "source": [
    "#reverse an Array\n",
    "arr = np.arange(6)\n",
    "print(arr)\n",
    "reverse = np.flip(arr)\n",
    "reverse"
   ]
  },
  {
   "cell_type": "code",
   "execution_count": 31,
   "id": "7cdb17b3-a104-4bc2-bf97-12a74c4fc5e6",
   "metadata": {},
   "outputs": [
    {
     "data": {
      "text/plain": [
       "array([[26, 46, 99, 33],\n",
       "       [29, 93, 89,  7],\n",
       "       [73,  7, 78,  5],\n",
       "       [79, 33, 33, 64]], dtype=int64)"
      ]
     },
     "execution_count": 31,
     "metadata": {},
     "output_type": "execute_result"
    }
   ],
   "source": [
    "reverse_arr = np.flip(a_2d)\n",
    "reverse_arr"
   ]
  },
  {
   "cell_type": "code",
   "execution_count": 32,
   "id": "53981563-8981-4b4a-b0b9-fc53ed39db5c",
   "metadata": {},
   "outputs": [
    {
     "data": {
      "text/plain": [
       "array([[33, 99, 46, 26],\n",
       "       [ 7, 89, 93, 29],\n",
       "       [ 5, 78,  7, 73],\n",
       "       [64, 33, 33, 79]], dtype=int64)"
      ]
     },
     "execution_count": 32,
     "metadata": {},
     "output_type": "execute_result"
    }
   ],
   "source": [
    "# can also reverse acc to axis\n",
    "reverse_row = np.flip(a_2d, axis=0)\n",
    "reverse_row"
   ]
  },
  {
   "cell_type": "code",
   "execution_count": 33,
   "id": "33f643e6-9642-40f2-a4cf-63aa0a96f0e6",
   "metadata": {},
   "outputs": [
    {
     "data": {
      "text/plain": [
       "array([[79, 33, 33, 64],\n",
       "       [73,  7, 78,  5],\n",
       "       [29, 93, 89,  7],\n",
       "       [26, 46, 99, 33]], dtype=int64)"
      ]
     },
     "execution_count": 33,
     "metadata": {},
     "output_type": "execute_result"
    }
   ],
   "source": [
    "#col\n",
    "reversed_arr_columns = np.flip(a_2d, axis=1)\n",
    "reversed_arr_columns"
   ]
  },
  {
   "cell_type": "code",
   "execution_count": 34,
   "id": "08577485-3bd8-47ed-a91e-f99cf7eb09ce",
   "metadata": {},
   "outputs": [
    {
     "data": {
      "text/plain": [
       "array([99, 89, 78, 33], dtype=int64)"
      ]
     },
     "execution_count": 34,
     "metadata": {},
     "output_type": "execute_result"
    }
   ],
   "source": [
    "# can reverse specific row or col\n",
    "rev_spec = np.flip(a_2d[1])\n",
    "rev_spec = np.flip(a_2d[:, 1])\n",
    "rev_spec"
   ]
  },
  {
   "cell_type": "code",
   "execution_count": 35,
   "id": "c1731cec-22da-414a-9df0-816a59052c64",
   "metadata": {},
   "outputs": [
    {
     "data": {
      "text/plain": [
       "array([ 1,  2,  3,  4,  5,  6,  7,  8,  9, 10, 11, 12])"
      ]
     },
     "execution_count": 35,
     "metadata": {},
     "output_type": "execute_result"
    }
   ],
   "source": [
    "#multidimensional array flattening\n",
    "x = np.array([[1 , 2, 3, 4], [5, 6, 7, 8], [9, 10, 11, 12]])\n",
    "x = x.flatten()\n",
    "x\n"
   ]
  },
  {
   "cell_type": "code",
   "execution_count": 36,
   "id": "f7e939c7-c262-4778-ace0-6654bbde19fa",
   "metadata": {},
   "outputs": [],
   "source": [
    "#ravel ->> the changes you will make on child will affect the parent array"
   ]
  },
  {
   "cell_type": "code",
   "execution_count": 37,
   "id": "cfe0862e-5242-4ab1-9b10-ed785b8e3b26",
   "metadata": {},
   "outputs": [
    {
     "data": {
      "text/plain": [
       "array([10,  2,  3,  4,  5,  6,  7,  8,  9, 10, 11, 12])"
      ]
     },
     "execution_count": 37,
     "metadata": {},
     "output_type": "execute_result"
    }
   ],
   "source": [
    "cp = x.ravel()\n",
    "cp[0] = 10\n",
    "x"
   ]
  },
  {
   "cell_type": "markdown",
   "id": "dea25d68-5545-4e6d-bb32-892c37edc640",
   "metadata": {},
   "source": [
    "## Save Numpy Project"
   ]
  },
  {
   "cell_type": "code",
   "execution_count": 38,
   "id": "57934932-2b39-44b7-b05b-5e3fb24434c4",
   "metadata": {},
   "outputs": [],
   "source": [
    "a = np.arange(12)"
   ]
  },
  {
   "cell_type": "code",
   "execution_count": 39,
   "id": "1024259d-9b85-42f2-b1fb-76544337b5c1",
   "metadata": {},
   "outputs": [
    {
     "name": "stdout",
     "output_type": "stream",
     "text": [
      "[ 0  1  2  3  4  5  6  7  8  9 10 11]\n"
     ]
    }
   ],
   "source": [
    "np.save('savednm',a) # save the array\n",
    "b = np.load('savednm.npy')\n",
    "print(b)"
   ]
  },
  {
   "cell_type": "code",
   "execution_count": 40,
   "id": "8738e6c2-8cfa-4f0c-9e04-762a70ce996d",
   "metadata": {},
   "outputs": [
    {
     "data": {
      "text/plain": [
       "array([ 0.,  1.,  2.,  3.,  4.,  5.,  6.,  7.,  8.,  9., 10., 11.])"
      ]
     },
     "execution_count": 40,
     "metadata": {},
     "output_type": "execute_result"
    }
   ],
   "source": [
    "np.savetxt('save.csv', a) # Know handling csv is better to be done with pandas\n",
    "np.loadtxt('save.csv')"
   ]
  },
  {
   "cell_type": "code",
   "execution_count": 41,
   "id": "c7d58abf-4b51-46c2-bb71-f3d85ff9d722",
   "metadata": {},
   "outputs": [],
   "source": [
    "### try plot some values and show graphically"
   ]
  },
  {
   "cell_type": "code",
   "execution_count": 42,
   "id": "9d1e5462-0c09-476e-99cd-0923fdd2828b",
   "metadata": {},
   "outputs": [
    {
     "data": {
      "text/plain": [
       "array([0, 1, 2, 3, 4, 5, 6, 7, 8, 9])"
      ]
     },
     "execution_count": 42,
     "metadata": {},
     "output_type": "execute_result"
    }
   ],
   "source": [
    "plot = np.arange(10)\n",
    "plot"
   ]
  },
  {
   "cell_type": "code",
   "execution_count": 43,
   "id": "264039a2-05c2-4b6f-b3a8-f42447d7eed4",
   "metadata": {},
   "outputs": [
    {
     "data": {
      "text/plain": [
       "[<matplotlib.lines.Line2D at 0x273bcc01550>]"
      ]
     },
     "execution_count": 43,
     "metadata": {},
     "output_type": "execute_result"
    },
    {
     "data": {
      "image/png": "[encoded data removed]",
      "text/plain": [
       "<Figure size 640x480 with 1 Axes>"
      ]
     },
     "metadata": {},
     "output_type": "display_data"
    }
   ],
   "source": [
    "plt.plot(a)"
   ]
  },
  {
   "cell_type": "code",
   "execution_count": null,
   "id": "b308da84-76f9-4e3c-bd4f-4e1b0abe7c04",
   "metadata": {},
   "outputs": [],
   "source": []
  }
 ],
 "metadata": {
  "kernelspec": {
   "display_name": "Python 3 (ipykernel)",
   "language": "python",
   "name": "python3"
  },
  "language_info": {
   "codemirror_mode": {
    "name": "ipython",
    "version": 3
   },
   "file_extension": ".py",
   "mimetype": "text/x-python",
   "name": "python",
   "nbconvert_exporter": "python",
   "pygments_lexer": "ipython3",
   "version": "3.12.2"
  }
 },
 "nbformat": 4,
 "nbformat_minor": 5
}
